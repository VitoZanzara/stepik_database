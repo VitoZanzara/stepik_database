{
 "cells": [
  {
   "cell_type": "code",
   "execution_count": 2,
   "id": "initial_id",
   "metadata": {
    "collapsed": true,
    "ExecuteTime": {
     "end_time": "2023-09-12T12:16:51.880727400Z",
     "start_time": "2023-09-12T12:16:51.876731600Z"
    }
   },
   "outputs": [],
   "source": [
    "import sqlalchemy as db"
   ]
  },
  {
   "cell_type": "code",
   "execution_count": 3,
   "outputs": [],
   "source": [
    "db_name = 'db_files/temp_db.sqlite3'"
   ],
   "metadata": {
    "collapsed": false,
    "ExecuteTime": {
     "end_time": "2023-09-12T12:17:16.199405500Z",
     "start_time": "2023-09-12T12:17:16.184395400Z"
    }
   },
   "id": "ccf486c7f4f6c391"
  },
  {
   "cell_type": "code",
   "execution_count": 6,
   "outputs": [],
   "source": [
    "engine = db.create_engine(f'sqlite:///{db_name}')"
   ],
   "metadata": {
    "collapsed": false,
    "ExecuteTime": {
     "end_time": "2023-09-12T12:33:12.042996900Z",
     "start_time": "2023-09-12T12:33:12.016178800Z"
    }
   },
   "id": "3ccd91a50c678013"
  },
  {
   "cell_type": "code",
   "execution_count": 84,
   "outputs": [],
   "source": [
    "conn = engine.connect()"
   ],
   "metadata": {
    "collapsed": false,
    "ExecuteTime": {
     "end_time": "2023-09-13T07:11:37.216742800Z",
     "start_time": "2023-09-13T07:11:37.206225100Z"
    }
   },
   "id": "fc536e6de2e1d2a5"
  },
  {
   "cell_type": "markdown",
   "source": [
    "Доп таблицы для Москвы и Еревана"
   ],
   "metadata": {
    "collapsed": false
   },
   "id": "dc2b338d41903e5a"
  },
  {
   "cell_type": "code",
   "execution_count": 128,
   "outputs": [],
   "source": [
    "text_query_create_employee_moscow = f\"\"\"CREATE TABLE employee_moscow\n",
    "(id INTEGER PRIMARY KEY,\n",
    "name VARCHAR(128) NOT NULL,\n",
    "lastname VARCHAR(128) NOT NULL,\n",
    "salary INTEGER CHECK(salary >= 0) DEFAULT 0)\"\"\"\n",
    "\n",
    "text_query_create_employee_yerevan = f\"\"\"CREATE TABLE employee_yerevan\n",
    "(id INTEGER PRIMARY KEY,\n",
    "name VARCHAR(128) NOT NULL,\n",
    "lastname VARCHAR(128) NOT NULL,\n",
    "salary INTEGER CHECK(salary >= 0) DEFAULT 0)\"\"\""
   ],
   "metadata": {
    "collapsed": false,
    "ExecuteTime": {
     "end_time": "2023-09-13T07:55:40.242105400Z",
     "start_time": "2023-09-13T07:55:40.224584400Z"
    }
   },
   "id": "48d7eb2700a2a4cd"
  },
  {
   "cell_type": "code",
   "execution_count": 131,
   "outputs": [],
   "source": [
    "# conn.execute(db.text(text_query_create_employee_yerevan))"
   ],
   "metadata": {
    "collapsed": false,
    "ExecuteTime": {
     "end_time": "2023-09-13T07:57:09.812146200Z",
     "start_time": "2023-09-13T07:57:09.792137300Z"
    }
   },
   "id": "699f9262b59f7aeb"
  },
  {
   "cell_type": "code",
   "execution_count": 132,
   "outputs": [
    {
     "data": {
      "text/plain": "<sqlalchemy.engine.cursor.CursorResult at 0x185563fc7c0>"
     },
     "execution_count": 132,
     "metadata": {},
     "output_type": "execute_result"
    }
   ],
   "source": [
    "conn.execute(db.text(text_query_create_employee_moscow))"
   ],
   "metadata": {
    "collapsed": false,
    "ExecuteTime": {
     "end_time": "2023-09-13T07:57:12.361472400Z",
     "start_time": "2023-09-13T07:57:12.261582Z"
    }
   },
   "id": "515e228fa3bb2c69"
  },
  {
   "cell_type": "code",
   "execution_count": 133,
   "outputs": [],
   "source": [
    "def set_default_moscow(conn):\n",
    "    data = \"\"\"| 1  | Thomas | Nelson     | 150000 |\n",
    "| 2  | Willie | Mitchell   | 90000  |\n",
    "| 3  | David  | Garrett    | 170000 |\n",
    "| 4  | Gary   | Richardson | 140000 |\n",
    "| 5  | Donald | Stewart    | 100000 |\"\"\"\n",
    "    keys = ('id', 'name', 'lastname', 'salary')\n",
    "    default_data = [dict(zip(keys, map(str.strip, line.strip('|').split('|')))) \n",
    "                   for line in data.splitlines()]\n",
    "    query_set = db.insert(db.Table('employee_moscow', db.MetaData(), autoload_with=engine)).values(default_data)\n",
    "    query_delete = db.delete(db.Table('employee_moscow', db.MetaData()))\n",
    "    conn.execute(query_delete)\n",
    "    # conn.commit()\n",
    "    conn.execute(query_set)\n",
    "    conn.commit()    "
   ],
   "metadata": {
    "collapsed": false,
    "ExecuteTime": {
     "end_time": "2023-09-13T08:02:48.957937500Z",
     "start_time": "2023-09-13T08:02:48.936925600Z"
    }
   },
   "id": "736bcff5bad9a955"
  },
  {
   "cell_type": "code",
   "execution_count": 134,
   "outputs": [],
   "source": [
    "def set_default_yerevan(conn):\n",
    "    data = \"\"\"| 1  | Gary      | Richardson | 140000 |\n",
    "| 2  | Donald    | Stewart    | 100000 |\n",
    "| 3  | Frederick | White      | 70000  |\n",
    "| 4  | Willie    | Gonzales   | 12000  |\n",
    "| 5  | Angel     | Carter     | 990000 |\"\"\"\n",
    "    keys = ('id', 'name', 'lastname', 'salary')\n",
    "    default_data = [dict(zip(keys, map(str.strip, line.strip('|').split('|')))) \n",
    "                   for line in data.splitlines()]\n",
    "    query_set = db.insert(db.Table('employee_yerevan', db.MetaData(), autoload_with=engine)).values(default_data)\n",
    "    query_delete = db.delete(db.Table('employee_yerevan', db.MetaData()))\n",
    "    conn.execute(query_delete)\n",
    "    # conn.commit()\n",
    "    conn.execute(query_set)\n",
    "    conn.commit()    \n",
    "    "
   ],
   "metadata": {
    "collapsed": false,
    "ExecuteTime": {
     "end_time": "2023-09-13T08:02:49.990004800Z",
     "start_time": "2023-09-13T08:02:49.973745700Z"
    }
   },
   "id": "b350af43c107c000"
  },
  {
   "cell_type": "markdown",
   "source": [
    "Напишите запрос, который создаст таблицу employee с описанными ниже полями. Обратите внимание на ограничения (constraints).\n",
    "\n",
    "id - целое число (первичный ключ)\n",
    "name - строка с длинной 128 (не null)\n",
    "lastname - строка с длинной 128 (не null)\n",
    "salary - (больше либо равно нулю, ноль по умолчанию)"
   ],
   "metadata": {
    "collapsed": false
   },
   "id": "4b4169b770e9ebb0"
  },
  {
   "cell_type": "code",
   "execution_count": 21,
   "outputs": [],
   "source": [
    "stmt_create_table = db.Table(\n",
    "    'employee',\n",
    "    db.MetaData(), \n",
    "    db.Column('id', db.INTEGER(), primary_key=True),\n",
    "    db.Column('name', db.VARCHAR(128), nullable=False),\n",
    "    db.Column('lastname', db.VARCHAR(128), nullable=False),\n",
    "    db.Column('salary', db.INTEGER(), db.CheckConstraint('salary >= 0'), default=0)\n",
    ")"
   ],
   "metadata": {
    "collapsed": false,
    "ExecuteTime": {
     "end_time": "2023-09-12T13:37:29.715754300Z",
     "start_time": "2023-09-12T13:37:29.698071800Z"
    }
   },
   "id": "daa1592ed7dce038"
  },
  {
   "cell_type": "code",
   "execution_count": 22,
   "outputs": [],
   "source": [
    "compiled_query = stmt_create_table.compile()"
   ],
   "metadata": {
    "collapsed": false,
    "ExecuteTime": {
     "end_time": "2023-09-12T13:37:31.039425300Z",
     "start_time": "2023-09-12T13:37:31.036415200Z"
    }
   },
   "id": "1977363cbaeac826"
  },
  {
   "cell_type": "code",
   "execution_count": 25,
   "outputs": [
    {
     "data": {
      "text/plain": "''"
     },
     "execution_count": 25,
     "metadata": {},
     "output_type": "execute_result"
    }
   ],
   "source": [
    "compiled_query.sql_compiler.string"
   ],
   "metadata": {
    "collapsed": false,
    "ExecuteTime": {
     "end_time": "2023-09-12T13:37:56.811330900Z",
     "start_time": "2023-09-12T13:37:56.766929900Z"
    }
   },
   "id": "42eb06dd8a2b0ffd"
  },
  {
   "cell_type": "code",
   "execution_count": 11,
   "outputs": [],
   "source": [
    "text_query_create_employee = f\"\"\"CREATE TABLE employee\n",
    "(id INTEGER PRIMARY KEY,\n",
    "name VARCHAR(128) NOT NULL,\n",
    "lastname VARCHAR(128) NOT NULL,\n",
    "salary INTEGER CHECK(salary >= 0) DEFAULT 0)\"\"\""
   ],
   "metadata": {
    "collapsed": false,
    "ExecuteTime": {
     "end_time": "2023-09-12T12:36:26.959757Z",
     "start_time": "2023-09-12T12:36:26.955745200Z"
    }
   },
   "id": "330533ed73c51c7d"
  },
  {
   "cell_type": "code",
   "execution_count": 7,
   "outputs": [],
   "source": [
    "query_show_tables = \"SELECT name FROM sqlite_master WHERE type='table';\""
   ],
   "metadata": {
    "collapsed": false,
    "ExecuteTime": {
     "end_time": "2023-09-12T12:34:47.761948600Z",
     "start_time": "2023-09-12T12:34:47.743928400Z"
    }
   },
   "id": "8b472bc817be86f8"
  },
  {
   "cell_type": "code",
   "execution_count": 139,
   "outputs": [
    {
     "data": {
      "text/plain": "[('employee',), ('employee_yerevan',), ('employee_moscow',)]"
     },
     "execution_count": 139,
     "metadata": {},
     "output_type": "execute_result"
    }
   ],
   "source": [
    "conn.execute(db.text(query_show_tables)).fetchall()\n",
    "# with engine.connect() as conn:\n",
    "#     res = conn.execute(db.text(query_show_tables))\n",
    "# print(res.fetchall())"
   ],
   "metadata": {
    "collapsed": false,
    "ExecuteTime": {
     "end_time": "2023-09-13T08:06:22.604584300Z",
     "start_time": "2023-09-13T08:06:22.567657800Z"
    }
   },
   "id": "20779f38030e2f8e"
  },
  {
   "cell_type": "code",
   "execution_count": 12,
   "outputs": [
    {
     "name": "stdout",
     "output_type": "stream",
     "text": [
      "<sqlalchemy.engine.cursor.CursorResult object at 0x0000018552EE3930>\n"
     ]
    }
   ],
   "source": [
    "# with engine.connect() as conn:\n",
    "#     res = conn.execute(db.text(text_query_create_employee))\n",
    "# print(res)"
   ],
   "metadata": {
    "collapsed": false,
    "ExecuteTime": {
     "end_time": "2023-09-12T12:36:28.231170300Z",
     "start_time": "2023-09-12T12:36:28.154071100Z"
    }
   },
   "id": "f386de9362aedf53"
  },
  {
   "cell_type": "code",
   "execution_count": 13,
   "outputs": [
    {
     "name": "stdout",
     "output_type": "stream",
     "text": [
      "[('employee',)]\n"
     ]
    }
   ],
   "source": [
    "# with engine.connect() as conn:\n",
    "#     res = conn.execute(db.text(query_show_tables))\n",
    "# print(res.fetchall())"
   ],
   "metadata": {
    "collapsed": false,
    "ExecuteTime": {
     "end_time": "2023-09-12T12:36:39.669625Z",
     "start_time": "2023-09-12T12:36:39.649617900Z"
    }
   },
   "id": "14b4b8667b1a79e5"
  },
  {
   "cell_type": "markdown",
   "source": [
    "В базе существует таблица employee с полями:\n",
    "\n",
    "id - целое число (первичный ключ)\n",
    "name - строка с длинной 128 (не null)\n",
    "lastname - строка с длинной 128 (не null)\n",
    "salary - (больше либо равно нулю, ноль по умолчанию)\n",
    "\n",
    "Напишите SQL скрипт, который добавляет 8 записей с сотрудниками (данные произвольные)."
   ],
   "metadata": {
    "collapsed": false
   },
   "id": "d17aab28fbd7845e"
  },
  {
   "cell_type": "markdown",
   "source": [],
   "metadata": {
    "collapsed": false
   },
   "id": "ac488009ad9f61ea"
  },
  {
   "cell_type": "code",
   "execution_count": 79,
   "outputs": [],
   "source": [
    "# очистка таблицы\n",
    "\n",
    "# with engine.connect() as conn:\n",
    "#     conn.execute(db.delete(db.Table('employee', db.MetaData())))\n",
    "#     conn.commit()"
   ],
   "metadata": {
    "collapsed": false,
    "ExecuteTime": {
     "end_time": "2023-09-13T07:08:02.101658700Z",
     "start_time": "2023-09-13T07:08:02.025345800Z"
    }
   },
   "id": "74207a17009ba659"
  },
  {
   "cell_type": "code",
   "execution_count": 49,
   "outputs": [],
   "source": [
    "# подготовка тестовых данных\n",
    "from random import randint\n",
    "names = [x * 3 for x in 'abcdefgh']\n",
    "lastnames = [x * 8 for x in 'abcdefgh'[::-1]]\n",
    "salaries = [randint(100, 500) for _ in range(8)]"
   ],
   "metadata": {
    "collapsed": false,
    "ExecuteTime": {
     "end_time": "2023-09-13T06:43:59.746128300Z",
     "start_time": "2023-09-13T06:43:59.739115400Z"
    }
   },
   "id": "980192cd1b2cfee"
  },
  {
   "cell_type": "code",
   "execution_count": 50,
   "outputs": [
    {
     "data": {
      "text/plain": "[{'id': 1, 'name': 'aaa', 'lastname': 'hhhhhhhh', 'salary': 274},\n {'id': 2, 'name': 'bbb', 'lastname': 'gggggggg', 'salary': 178},\n {'id': 3, 'name': 'ccc', 'lastname': 'ffffffff', 'salary': 265},\n {'id': 4, 'name': 'ddd', 'lastname': 'eeeeeeee', 'salary': 348},\n {'id': 5, 'name': 'eee', 'lastname': 'dddddddd', 'salary': 339},\n {'id': 6, 'name': 'fff', 'lastname': 'cccccccc', 'salary': 196},\n {'id': 7, 'name': 'ggg', 'lastname': 'bbbbbbbb', 'salary': 286},\n {'id': 8, 'name': 'hhh', 'lastname': 'aaaaaaaa', 'salary': 360}]"
     },
     "execution_count": 50,
     "metadata": {},
     "output_type": "execute_result"
    }
   ],
   "source": [
    "# \n",
    "items = [{'id': i, \"name\": name, 'lastname': lastname, 'salary': salary} \n",
    "         for i, (name, lastname, salary) in enumerate(zip(names, lastnames, salaries), 1)]\n",
    "items"
   ],
   "metadata": {
    "collapsed": false,
    "ExecuteTime": {
     "end_time": "2023-09-13T06:44:28.795187800Z",
     "start_time": "2023-09-13T06:44:28.776481500Z"
    }
   },
   "id": "80cce4d41f0257e5"
  },
  {
   "cell_type": "code",
   "execution_count": 88,
   "outputs": [],
   "source": [
    "# данные из курса\n",
    "keys = ('id', 'name', 'lastname', 'salary')\n",
    "data = \"\"\"| 1  | Thomas    | Nelson     | 150000 |\n",
    "| 2  | Willie    | Mitchell   | 90000  |\n",
    "| 3  | David     | Garrett    | 170000 |\n",
    "| 4  | Gary      | Richardson | 140000 |\n",
    "| 5  | Donald    | Stewart    | 100000 |\n",
    "| 6  | Frederick | White      | 70000  |\n",
    "| 7  | Willie    | Gonzales   | 12000  |\n",
    "| 8  | Angel     | Carter     | 990000 |\"\"\"\n",
    "course_data = [dict(zip(keys, map(str.strip, line.strip('|').split('|')))) for line in data.splitlines()]"
   ],
   "metadata": {
    "collapsed": false,
    "ExecuteTime": {
     "end_time": "2023-09-13T07:15:44.465729800Z",
     "start_time": "2023-09-13T07:15:44.458751Z"
    }
   },
   "id": "dc6f6abd1df278d6"
  },
  {
   "cell_type": "code",
   "execution_count": 89,
   "outputs": [
    {
     "data": {
      "text/plain": "[{'id': '1', 'name': 'Thomas', 'lastname': 'Nelson', 'salary': '150000'},\n {'id': '2', 'name': 'Willie', 'lastname': 'Mitchell', 'salary': '90000'},\n {'id': '3', 'name': 'David', 'lastname': 'Garrett', 'salary': '170000'},\n {'id': '4', 'name': 'Gary', 'lastname': 'Richardson', 'salary': '140000'},\n {'id': '5', 'name': 'Donald', 'lastname': 'Stewart', 'salary': '100000'},\n {'id': '6', 'name': 'Frederick', 'lastname': 'White', 'salary': '70000'},\n {'id': '7', 'name': 'Willie', 'lastname': 'Gonzales', 'salary': '12000'},\n {'id': '8', 'name': 'Angel', 'lastname': 'Carter', 'salary': '990000'}]"
     },
     "execution_count": 89,
     "metadata": {},
     "output_type": "execute_result"
    }
   ],
   "source": [
    "course_data"
   ],
   "metadata": {
    "collapsed": false,
    "ExecuteTime": {
     "end_time": "2023-09-13T07:15:50.367024400Z",
     "start_time": "2023-09-13T07:15:50.344941200Z"
    }
   },
   "id": "84745ce17e3db526"
  },
  {
   "cell_type": "code",
   "execution_count": 54,
   "outputs": [],
   "source": [
    "# alchemy insert with data\n",
    "stmt_insert_employee = db.insert(db.Table('employee', db.MetaData(), autoload_with=engine)).values(items)"
   ],
   "metadata": {
    "collapsed": false,
    "ExecuteTime": {
     "end_time": "2023-09-13T06:45:16.404544600Z",
     "start_time": "2023-09-13T06:45:16.384859200Z"
    }
   },
   "id": "52040132c08e27d4"
  },
  {
   "cell_type": "code",
   "execution_count": 58,
   "outputs": [
    {
     "name": "stdout",
     "output_type": "stream",
     "text": [
      "INSERT INTO employee (id, name, lastname, salary) VALUES (1, 'aaa', 'hhhhhhhh', 274), (2, 'bbb', 'gggggggg', 178), (3, 'ccc', 'ffffffff', 265), (4, 'ddd', 'eeeeeeee', 348), (5, 'eee', 'dddddddd', 339), (6, 'fff', 'cccccccc', 196), (7, 'ggg', 'bbbbbbbb', 286), (8, 'hhh', 'aaaaaaaa', 360)\n"
     ]
    }
   ],
   "source": [
    "print(stmt_insert_employee.compile(compile_kwargs={\"literal_binds\": True}).string)"
   ],
   "metadata": {
    "collapsed": false,
    "ExecuteTime": {
     "end_time": "2023-09-13T06:46:24.163604100Z",
     "start_time": "2023-09-13T06:46:24.142652800Z"
    }
   },
   "id": "9955504b8d9fc5b"
  },
  {
   "cell_type": "code",
   "execution_count": 90,
   "outputs": [
    {
     "name": "stdout",
     "output_type": "stream",
     "text": [
      "INSERT INTO employee (id, name, lastname, salary) VALUES (1, 'Thomas', 'Nelson', 150000), (2, 'Willie', 'Mitchell', 90000), (3, 'David', 'Garrett', 170000), (4, 'Gary', 'Richardson', 140000), (5, 'Donald', 'Stewart', 100000), (6, 'Frederick', 'White', 70000), (7, 'Willie', 'Gonzales', 12000), (8, 'Angel', 'Carter', 990000)\n"
     ]
    }
   ],
   "source": [
    "stmt_insert_employee_course_date = db.insert(db.Table('employee', db.MetaData(), autoload_with=engine)).values(course_data)\n",
    "print(stmt_insert_employee_course_date.compile(compile_kwargs={\"literal_binds\":True}).string)"
   ],
   "metadata": {
    "collapsed": false,
    "ExecuteTime": {
     "end_time": "2023-09-13T07:16:16.961026100Z",
     "start_time": "2023-09-13T07:16:16.940806300Z"
    }
   },
   "id": "96044b36feb9ca5e"
  },
  {
   "cell_type": "code",
   "execution_count": 80,
   "outputs": [],
   "source": [
    "# вносим данные в таблицу\n",
    "with engine.connect() as conn:\n",
    "    conn.execute(stmt_insert_employee_course_date)\n",
    "    conn.commit()"
   ],
   "metadata": {
    "collapsed": false,
    "ExecuteTime": {
     "end_time": "2023-09-13T07:08:09.961930900Z",
     "start_time": "2023-09-13T07:08:09.896870900Z"
    }
   },
   "id": "e9a9d4f0a3a622c5"
  },
  {
   "cell_type": "code",
   "execution_count": 27,
   "outputs": [],
   "source": [
    "from sqlalchemy.orm import sessionmaker\n",
    "Session = sessionmaker(bind=engine)\n",
    "with Session() as session:\n",
    "    query = session.query(stmt_create_table)\n",
    "    "
   ],
   "metadata": {
    "collapsed": false,
    "ExecuteTime": {
     "end_time": "2023-09-12T13:43:10.224252600Z",
     "start_time": "2023-09-12T13:43:10.207242Z"
    }
   },
   "id": "2e97d21833977495"
  },
  {
   "cell_type": "markdown",
   "source": [
    "В базе существует таблица employee с полями:\n",
    "\n",
    "id - целое число (первичный ключ)\n",
    "name - строка с длинной 128 (не null)\n",
    "lastname - строка с длинной 128 (не null)\n",
    "salary - (больше либо равно нулю, ноль по умолчанию)\n",
    "\n",
    "Создайте представление v_employee которое будет содержать имена и фамилии всех сотрудников. "
   ],
   "metadata": {
    "collapsed": false
   },
   "id": "db18c12938422c57"
  },
  {
   "cell_type": "code",
   "execution_count": 67,
   "outputs": [],
   "source": [
    "query_create_view = \"\"\"CREATE VIEW v_employee AS SELECT name, lastname FROM employee\"\"\""
   ],
   "metadata": {
    "collapsed": false,
    "ExecuteTime": {
     "end_time": "2023-09-13T06:55:21.188166400Z",
     "start_time": "2023-09-13T06:55:21.183156700Z"
    }
   },
   "id": "b4a296c9c6929ec7"
  },
  {
   "cell_type": "code",
   "execution_count": 71,
   "outputs": [],
   "source": [
    "conn.execute(db.text(query_create_view))\n",
    "conn.commit()\n",
    "# with engine.connect() as conn:\n",
    "#     conn.execute(db.text(query_create_view))\n",
    "#     conn.commit()"
   ],
   "metadata": {
    "collapsed": false,
    "ExecuteTime": {
     "end_time": "2023-09-13T06:59:04.961454Z",
     "start_time": "2023-09-13T06:59:04.904584500Z"
    }
   },
   "id": "af36ea153fe80bfd"
  },
  {
   "cell_type": "markdown",
   "source": [
    "В базе существует представление v_employee. Удалите его."
   ],
   "metadata": {
    "collapsed": false
   },
   "id": "c7f84722393f145"
  },
  {
   "cell_type": "code",
   "execution_count": 69,
   "outputs": [],
   "source": [
    "# with engine.connect() as conn:\n",
    "conn.execute(db.text('DROP VIEW v_employee'))"
   ],
   "metadata": {
    "collapsed": false,
    "ExecuteTime": {
     "end_time": "2023-09-13T06:58:37.969178900Z",
     "start_time": "2023-09-13T06:58:37.902550100Z"
    }
   },
   "id": "3487aa59526bf821"
  },
  {
   "cell_type": "markdown",
   "source": [
    "В базе существует таблица employee. Всем сотрудникам, у которых зарплата не превышает 100000 единиц, укажите зарплату в 120000 единиц."
   ],
   "metadata": {
    "collapsed": false
   },
   "id": "c89cac327bb461d5"
  },
  {
   "cell_type": "code",
   "execution_count": 81,
   "outputs": [],
   "source": [
    "query_up_salary = \"\"\"UPDATE employee SET salary=120000 WHERE employee.salary <=100000\"\"\""
   ],
   "metadata": {
    "collapsed": false,
    "ExecuteTime": {
     "end_time": "2023-09-13T07:10:22.346661400Z",
     "start_time": "2023-09-13T07:10:22.340648600Z"
    }
   },
   "id": "d5a227f74e021ab2"
  },
  {
   "cell_type": "code",
   "execution_count": 83,
   "outputs": [],
   "source": [
    "# with engine.connect() as conn:\n",
    "conn.execute(db.text(query_up_salary))\n",
    "conn.commit()"
   ],
   "metadata": {
    "collapsed": false,
    "ExecuteTime": {
     "end_time": "2023-09-13T07:11:04.519007700Z",
     "start_time": "2023-09-13T07:11:04.407172200Z"
    }
   },
   "id": "111ca8a854fd47f6"
  },
  {
   "cell_type": "code",
   "execution_count": 102,
   "outputs": [
    {
     "data": {
      "text/plain": "[(1, 'Thomas', 'Nelson', 150000),\n (2, 'Willie', 'Mitchell', 100000),\n (3, 'David', 'Garrett', 170000),\n (4, 'Gary', 'Richardson', 140000),\n (5, 'Donald', 'Stewart', 100000),\n (6, 'Frederick', 'White', 80000),\n (7, 'Willie', 'Gonzales', 22000),\n (8, 'Angel', 'Carter', 990000)]"
     },
     "execution_count": 102,
     "metadata": {},
     "output_type": "execute_result"
    }
   ],
   "source": [
    "conn.execute(db.text('SELECT * FROM employee')).fetchall()"
   ],
   "metadata": {
    "collapsed": false,
    "ExecuteTime": {
     "end_time": "2023-09-13T07:28:19.411064400Z",
     "start_time": "2023-09-13T07:28:19.405581900Z"
    }
   },
   "id": "faa1c1cb14b76761"
  },
  {
   "cell_type": "markdown",
   "source": [
    "В базе существует таблица employee. Увеличьте зарплату на 10000 единиц у всех сотрудников, у которых зарплата меньше 100000 единиц."
   ],
   "metadata": {
    "collapsed": false
   },
   "id": "36e7b1e5bf9834de"
  },
  {
   "cell_type": "code",
   "execution_count": 94,
   "outputs": [],
   "source": [
    "query_clean_employee = \"\"\"DELETE FROM employee\"\"\""
   ],
   "metadata": {
    "collapsed": false,
    "ExecuteTime": {
     "end_time": "2023-09-13T07:19:00.639688300Z",
     "start_time": "2023-09-13T07:19:00.623680100Z"
    }
   },
   "id": "89d1b2fa0d253515"
  },
  {
   "cell_type": "code",
   "execution_count": 96,
   "outputs": [],
   "source": [
    "conn.execute(db.text(query_clean_employee))\n",
    "conn.commit()"
   ],
   "metadata": {
    "collapsed": false,
    "ExecuteTime": {
     "end_time": "2023-09-13T07:19:19.215468500Z",
     "start_time": "2023-09-13T07:19:19.099055700Z"
    }
   },
   "id": "838524da8e50d5eb"
  },
  {
   "cell_type": "code",
   "execution_count": 97,
   "outputs": [],
   "source": [
    "conn.execute(stmt_insert_employee_course_date)\n",
    "conn.commit()"
   ],
   "metadata": {
    "collapsed": false,
    "ExecuteTime": {
     "end_time": "2023-09-13T07:20:08.875477Z",
     "start_time": "2023-09-13T07:20:08.724180200Z"
    }
   },
   "id": "b71946b23d108f79"
  },
  {
   "cell_type": "code",
   "execution_count": 120,
   "outputs": [],
   "source": [
    "def set_employee_to_default(conn):\n",
    "    data = \"\"\"| 1  | Thomas    | Nelson     | 150000 |\n",
    "| 2  | Willie    | Mitchell   | 90000  |\n",
    "| 3  | David     | Garrett    | 170000 |\n",
    "| 4  | Gary      | Richardson | 140000 |\n",
    "| 5  | Donald    | Stewart    | 100000 |\n",
    "| 6  | Frederick | White      | 70000  |\n",
    "| 7  | Willie    | Gonzales   | 12000  |\n",
    "| 8  | Angel     | Carter     | 990000 |\"\"\"\n",
    "    keys = ('id', 'name', 'lastname', 'salary')\n",
    "    default_data = [dict(zip(keys, map(str.strip, line.strip('|').split('|')))) \n",
    "                   for line in data.splitlines()]\n",
    "    query_set = db.insert(db.Table('employee', db.MetaData(), autoload_with=engine)).values(default_data)\n",
    "    query_delete = db.delete(db.Table('employee', db.MetaData()))\n",
    "    conn.execute(query_delete)\n",
    "    # conn.commit()\n",
    "    conn.execute(query_set)\n",
    "    conn.commit()    "
   ],
   "metadata": {
    "collapsed": false,
    "ExecuteTime": {
     "end_time": "2023-09-13T07:35:51.886392Z",
     "start_time": "2023-09-13T07:35:51.871381400Z"
    }
   },
   "id": "972cc3a8e41421b"
  },
  {
   "cell_type": "code",
   "execution_count": 98,
   "outputs": [],
   "source": [
    "query_add_to_salary = \"\"\"UPDATE employee SET salary=employee.salary + 10000 WHERE employee.salary < 100000\"\"\""
   ],
   "metadata": {
    "collapsed": false,
    "ExecuteTime": {
     "end_time": "2023-09-13T07:21:26.462945600Z",
     "start_time": "2023-09-13T07:21:26.455934600Z"
    }
   },
   "id": "f2e65b278e7a4b0a"
  },
  {
   "cell_type": "code",
   "execution_count": 100,
   "outputs": [],
   "source": [
    "conn.execute(db.text(query_add_to_salary))\n",
    "conn.commit()"
   ],
   "metadata": {
    "collapsed": false,
    "ExecuteTime": {
     "end_time": "2023-09-13T07:22:17.142859500Z",
     "start_time": "2023-09-13T07:22:17.039059800Z"
    }
   },
   "id": "3e99829f2736c8a6"
  },
  {
   "cell_type": "markdown",
   "source": [
    "В базе существует таблица employee. Удалите всех сотрудников, у которых зарплата меньше 100000 единиц."
   ],
   "metadata": {
    "collapsed": false
   },
   "id": "303306751a789d0e"
  },
  {
   "cell_type": "code",
   "execution_count": 121,
   "outputs": [],
   "source": [
    "set_employee_to_default(conn)"
   ],
   "metadata": {
    "collapsed": false,
    "ExecuteTime": {
     "end_time": "2023-09-13T07:36:03.149808300Z",
     "start_time": "2023-09-13T07:36:03.071147700Z"
    }
   },
   "id": "e94aa492ab6a5bf8"
  },
  {
   "cell_type": "code",
   "execution_count": 122,
   "outputs": [],
   "source": [
    "query_del_poverty = \"\"\"DELETE FROM employee WHERE employee.salary < 100000\"\"\""
   ],
   "metadata": {
    "collapsed": false,
    "ExecuteTime": {
     "end_time": "2023-09-13T07:36:43.624687800Z",
     "start_time": "2023-09-13T07:36:43.604676200Z"
    }
   },
   "id": "c350b56973b4a128"
  },
  {
   "cell_type": "code",
   "execution_count": 123,
   "outputs": [],
   "source": [
    "conn.execute(db.text(query_del_poverty))\n",
    "conn.commit()"
   ],
   "metadata": {
    "collapsed": false,
    "ExecuteTime": {
     "end_time": "2023-09-13T07:37:14.706810800Z",
     "start_time": "2023-09-13T07:37:14.626403100Z"
    }
   },
   "id": "3f322ed8c81c1bbb"
  },
  {
   "cell_type": "markdown",
   "source": [
    "В базе существует две таблицы, которые содержат данные о сотрудниках в Москве и в Ереване (employee_moscow и employee_yerevan). Объединить имена сотрудников из двух твблиц. Вывести все имена, в том числе с повторением."
   ],
   "metadata": {
    "collapsed": false
   },
   "id": "927b12b239a082b4"
  },
  {
   "cell_type": "code",
   "execution_count": 135,
   "outputs": [],
   "source": [
    "set_default_moscow(conn)"
   ],
   "metadata": {
    "collapsed": false,
    "ExecuteTime": {
     "end_time": "2023-09-13T08:03:25.891599100Z",
     "start_time": "2023-09-13T08:03:25.804544800Z"
    }
   },
   "id": "9a9196f4b572293b"
  },
  {
   "cell_type": "code",
   "execution_count": 136,
   "outputs": [],
   "source": [
    "set_default_yerevan(conn)"
   ],
   "metadata": {
    "collapsed": false,
    "ExecuteTime": {
     "end_time": "2023-09-13T08:03:45.122034600Z",
     "start_time": "2023-09-13T08:03:45.019955100Z"
    }
   },
   "id": "b0548d4d424357b9"
  },
  {
   "cell_type": "code",
   "execution_count": 137,
   "outputs": [],
   "source": [
    "query_names = \"SELECT name FROM employee_moscow UNION ALL SELECT name FROM employee_yerevan\""
   ],
   "metadata": {
    "collapsed": false,
    "ExecuteTime": {
     "end_time": "2023-09-13T08:04:50.988141500Z",
     "start_time": "2023-09-13T08:04:50.960131700Z"
    }
   },
   "id": "5b9c62e5873ef55"
  },
  {
   "cell_type": "code",
   "execution_count": 138,
   "outputs": [
    {
     "data": {
      "text/plain": "[('Thomas',),\n ('Willie',),\n ('David',),\n ('Gary',),\n ('Donald',),\n ('Gary',),\n ('Donald',),\n ('Frederick',),\n ('Willie',),\n ('Angel',)]"
     },
     "execution_count": 138,
     "metadata": {},
     "output_type": "execute_result"
    }
   ],
   "source": [
    "conn.execute(db.text(query_names)).fetchall()"
   ],
   "metadata": {
    "collapsed": false,
    "ExecuteTime": {
     "end_time": "2023-09-13T08:05:10.565076800Z",
     "start_time": "2023-09-13T08:05:10.543431900Z"
    }
   },
   "id": "55e4bf069173dc8b"
  },
  {
   "cell_type": "markdown",
   "source": [
    "В базе существует две таблицы, которые содержат данные о сотрудниках в Москве и в Ереване (employee_moscow и employee_yerevan). Объединить имена сотрудников из двух твблиц. Итоговая выборка должна содержать поля name с именем сотрудника и city со значением Moscow для Москвы и Yerevan для Еревана."
   ],
   "metadata": {
    "collapsed": false
   },
   "id": "94850ad1e9e45562"
  },
  {
   "cell_type": "code",
   "execution_count": 140,
   "outputs": [],
   "source": [
    "query_name_city = \"\"\"SELECT name, 'Moscow' as city FROM employee_moscow UNION ALL SELECT name, 'Yerevan' as city FROM employee_yerevan\"\"\""
   ],
   "metadata": {
    "collapsed": false,
    "ExecuteTime": {
     "end_time": "2023-09-13T08:13:30.759998800Z",
     "start_time": "2023-09-13T08:13:30.741988Z"
    }
   },
   "id": "883cb42abd6a5829"
  },
  {
   "cell_type": "code",
   "execution_count": 141,
   "outputs": [
    {
     "data": {
      "text/plain": "[('Thomas', 'Moscow'),\n ('Willie', 'Moscow'),\n ('David', 'Moscow'),\n ('Gary', 'Moscow'),\n ('Donald', 'Moscow'),\n ('Gary', 'Yerevan'),\n ('Donald', 'Yerevan'),\n ('Frederick', 'Yerevan'),\n ('Willie', 'Yerevan'),\n ('Angel', 'Yerevan')]"
     },
     "execution_count": 141,
     "metadata": {},
     "output_type": "execute_result"
    }
   ],
   "source": [
    "conn.execute(db.text(query_name_city)).fetchall()"
   ],
   "metadata": {
    "collapsed": false,
    "ExecuteTime": {
     "end_time": "2023-09-13T08:13:50.655332600Z",
     "start_time": "2023-09-13T08:13:50.629967100Z"
    }
   },
   "id": "d197b850280e4480"
  },
  {
   "cell_type": "code",
   "execution_count": 142,
   "outputs": [],
   "source": [
    "conn.close()"
   ],
   "metadata": {
    "collapsed": false,
    "ExecuteTime": {
     "end_time": "2023-09-13T13:25:25.092979700Z",
     "start_time": "2023-09-13T13:25:25.067967600Z"
    }
   },
   "id": "f397851371d8b6f9"
  }
 ],
 "metadata": {
  "kernelspec": {
   "display_name": "Python 3",
   "language": "python",
   "name": "python3"
  },
  "language_info": {
   "codemirror_mode": {
    "name": "ipython",
    "version": 2
   },
   "file_extension": ".py",
   "mimetype": "text/x-python",
   "name": "python",
   "nbconvert_exporter": "python",
   "pygments_lexer": "ipython2",
   "version": "2.7.6"
  }
 },
 "nbformat": 4,
 "nbformat_minor": 5
}
