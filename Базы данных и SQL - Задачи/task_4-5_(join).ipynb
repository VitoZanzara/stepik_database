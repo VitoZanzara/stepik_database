{
 "cells": [
  {
   "cell_type": "markdown",
   "source": [
    "https://stepik.org/lesson/1075715?unit=1085823"
   ],
   "metadata": {
    "collapsed": false
   },
   "id": "55f761468d4d5dd0"
  },
  {
   "cell_type": "code",
   "execution_count": 1,
   "id": "initial_id",
   "metadata": {
    "collapsed": true,
    "ExecuteTime": {
     "end_time": "2023-09-13T13:31:51.425265100Z",
     "start_time": "2023-09-13T13:31:51.074347Z"
    }
   },
   "outputs": [],
   "source": [
    "import sqlalchemy as db"
   ]
  },
  {
   "cell_type": "code",
   "execution_count": 2,
   "outputs": [],
   "source": [
    "db_name = '/db_files/task_4-5_(join).sqlite'"
   ],
   "metadata": {
    "collapsed": false,
    "ExecuteTime": {
     "end_time": "2023-09-13T13:31:52.447066800Z",
     "start_time": "2023-09-13T13:31:52.438548700Z"
    }
   },
   "id": "19c3dad65e5d760f"
  },
  {
   "cell_type": "code",
   "execution_count": 4,
   "outputs": [],
   "source": [
    "engine = db.create_engine(f'sqlite:///{db_name}')"
   ],
   "metadata": {
    "collapsed": false,
    "ExecuteTime": {
     "end_time": "2023-09-13T13:32:00.787739300Z",
     "start_time": "2023-09-13T13:32:00.782728200Z"
    }
   },
   "id": "927a02ee9b90125a"
  },
  {
   "cell_type": "code",
   "execution_count": 5,
   "outputs": [],
   "source": [
    "conn = engine.connect()"
   ],
   "metadata": {
    "collapsed": false,
    "ExecuteTime": {
     "end_time": "2023-09-13T13:32:10.647451800Z",
     "start_time": "2023-09-13T13:32:10.639541800Z"
    }
   },
   "id": "30144f6f4bdd393f"
  },
  {
   "cell_type": "markdown",
   "source": [
    "В базе есть таблица employee, которая содержит данные о сотрудниках, а так же tasks с данными о задачах.\n",
    "Структура таблиц следующая:\n",
    "\n",
    "employee\n",
    "\n",
    "id - идентификатор сотрудника\n",
    "name - имя сотрудника\n",
    "lastname - фамилия сотрудника\n",
    "salary - зарплата сотрудника\n",
    "manager_id - идентификатор менеджера сотрудника\n",
    "\n",
    "tasks\n",
    "\n",
    "id - идентификатор задачи\n",
    "title - наименование задачи\n",
    "employee_id - идентификатор сотрудника, который назначен исполнителем\n",
    "done_flg - флаг выполнения задачи (1 - задача выполнена, 0 - задача не выполнена)\n",
    "\n",
    "Сформируйте выборку, которая содержит в себе имя и фамилию сотрудника, а так же наименование задачи."
   ],
   "metadata": {
    "collapsed": false
   },
   "id": "754546ec3359fd24"
  },
  {
   "cell_type": "code",
   "execution_count": 2,
   "outputs": [],
   "source": [
    "keys_employee = 'id', 'name', 'lastname', 'salary', 'manager_id'\n",
    "data_employee = \"\"\"| 1  | Thomas    | Nelson     | 150000 | NULL       |\n",
    "| 2  | Willie    | Mitchell   | 90000  | 1          |\n",
    "| 3  | David     | Garrett    | 170000 | 2          |\n",
    "| 4  | Gary      | Richardson | 140000 | 1          |\n",
    "| 5  | Donald    | Stewart    | 100000 | 3          |\n",
    "| 6  | Frederick | White      | 70000  | 2          |\n",
    "| 7  | Willie    | Gonzales   | 12000  | 1          |\n",
    "| 8  | Angel     | Carter     | 990000 | 3          |\"\"\""
   ],
   "metadata": {
    "collapsed": false,
    "ExecuteTime": {
     "end_time": "2023-09-13T12:56:40.088789500Z",
     "start_time": "2023-09-13T12:56:40.062711800Z"
    }
   },
   "id": "67d27b628a0ca16"
  },
  {
   "cell_type": "code",
   "execution_count": 6,
   "outputs": [],
   "source": [
    "keys_tasks = 'id', 'title', 'employee_id', 'done_flg'\n",
    "data_tasks = \"\"\"| 1  | Thomas    | Nelson     | 150000 | NULL       |\n",
    "| 2  | Willie    | Mitchell   | 90000  | 1          |\n",
    "| 3  | David     | Garrett    | 170000 | 2          |\n",
    "| 4  | Gary      | Richardson | 140000 | 1          |\n",
    "| 5  | Donald    | Stewart    | 100000 | 3          |\n",
    "| 6  | Frederick | White      | 70000  | 2          |\n",
    "| 7  | Willie    | Gonzales   | 12000  | 1          |\n",
    "| 8  | Angel     | Carter     | 990000 | 3          |\"\"\""
   ],
   "metadata": {
    "collapsed": false,
    "ExecuteTime": {
     "end_time": "2023-09-13T14:10:15.898354100Z",
     "start_time": "2023-09-13T14:10:15.895835800Z"
    }
   },
   "id": "c63d8ff57b91709e"
  }
 ],
 "metadata": {
  "kernelspec": {
   "display_name": "Python 3",
   "language": "python",
   "name": "python3"
  },
  "language_info": {
   "codemirror_mode": {
    "name": "ipython",
    "version": 2
   },
   "file_extension": ".py",
   "mimetype": "text/x-python",
   "name": "python",
   "nbconvert_exporter": "python",
   "pygments_lexer": "ipython2",
   "version": "2.7.6"
  }
 },
 "nbformat": 4,
 "nbformat_minor": 5
}
