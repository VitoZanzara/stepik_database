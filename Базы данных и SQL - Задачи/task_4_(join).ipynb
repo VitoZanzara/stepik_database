{
 "cells": [
  {
   "cell_type": "markdown",
   "source": [
    "https://stepik.org/lesson/1075715?unit=1085823"
   ],
   "metadata": {
    "collapsed": false
   },
   "id": "59635dee5965935f"
  },
  {
   "cell_type": "code",
   "execution_count": 17,
   "outputs": [],
   "source": [
    "import sqlalchemy as db"
   ],
   "metadata": {
    "collapsed": false,
    "ExecuteTime": {
     "end_time": "2023-09-15T08:59:49.495270100Z",
     "start_time": "2023-09-15T08:59:49.486260700Z"
    }
   },
   "id": "a717aa39474af443"
  },
  {
   "cell_type": "code",
   "execution_count": 18,
   "outputs": [],
   "source": [
    "db_name = 'db_files/task_4_(join).sqlite'"
   ],
   "metadata": {
    "collapsed": false,
    "ExecuteTime": {
     "end_time": "2023-09-15T08:59:50.906324800Z",
     "start_time": "2023-09-15T08:59:50.898313700Z"
    }
   },
   "id": "d952d50fbdbbcd75"
  },
  {
   "cell_type": "code",
   "execution_count": 19,
   "outputs": [],
   "source": [
    "engine = db.create_engine(f'sqlite:///{db_name}')"
   ],
   "metadata": {
    "collapsed": false,
    "ExecuteTime": {
     "end_time": "2023-09-15T08:59:52.485151300Z",
     "start_time": "2023-09-15T08:59:52.481139100Z"
    }
   },
   "id": "f3023ce1bbde5c1a"
  },
  {
   "cell_type": "code",
   "execution_count": 20,
   "outputs": [],
   "source": [
    "conn = engine.connect()"
   ],
   "metadata": {
    "collapsed": false,
    "ExecuteTime": {
     "end_time": "2023-09-15T08:59:54.068248400Z",
     "start_time": "2023-09-15T08:59:54.056854700Z"
    }
   },
   "id": "f44da786aec9f52d"
  },
  {
   "cell_type": "code",
   "execution_count": 39,
   "outputs": [],
   "source": [
    "query_drop_employee = \"DROP TABLE IF EXISTS employee\"\n",
    "query_drop_tasks = \"DROP TABLE IF EXISTS tasks\""
   ],
   "metadata": {
    "collapsed": false,
    "ExecuteTime": {
     "end_time": "2023-09-15T09:24:46.395226400Z",
     "start_time": "2023-09-15T09:24:46.374216600Z"
    }
   },
   "id": "2f006b97a372c351"
  },
  {
   "cell_type": "code",
   "execution_count": 63,
   "outputs": [],
   "source": [
    "conn.execute(db.text(query_drop_employee))\n",
    "conn.commit()"
   ],
   "metadata": {
    "collapsed": false,
    "ExecuteTime": {
     "end_time": "2023-09-15T09:36:15.907883400Z",
     "start_time": "2023-09-15T09:36:15.813681400Z"
    }
   },
   "id": "61ec17fd27c28576"
  },
  {
   "cell_type": "code",
   "execution_count": 42,
   "outputs": [],
   "source": [
    "conn.execute(db.text(query_drop_tasks))\n",
    "conn.commit()"
   ],
   "metadata": {
    "collapsed": false,
    "ExecuteTime": {
     "end_time": "2023-09-15T09:25:49.662491500Z",
     "start_time": "2023-09-15T09:25:49.521347200Z"
    }
   },
   "id": "1b0541c335760bb4"
  },
  {
   "cell_type": "markdown",
   "source": [
    "#### Создание таблиц"
   ],
   "metadata": {
    "collapsed": false
   },
   "id": "25a098156ec27dd3"
  },
  {
   "cell_type": "code",
   "execution_count": 64,
   "outputs": [],
   "source": [
    "query_create_table_employee = \"\"\"CREATE TABLE employee (\n",
    "id INTEGER PRIMARY KEY,\n",
    "name VARCHAR(128),\n",
    "lastname  VARCHAR(128),\n",
    "salary INTEGER DEFAULT 0,\n",
    "manager_id INTEGER)\"\"\""
   ],
   "metadata": {
    "collapsed": false,
    "ExecuteTime": {
     "end_time": "2023-09-15T09:36:18.280470100Z",
     "start_time": "2023-09-15T09:36:18.275460700Z"
    }
   },
   "id": "f38ac714dc289d62"
  },
  {
   "cell_type": "code",
   "execution_count": 47,
   "outputs": [],
   "source": [
    "query_create_table_tasks = \"\"\"CREATE TABLE tasks (\n",
    "id INTEGER,\n",
    "title VARCHAR(128),\n",
    "employee_id INTEGER,\n",
    "done_flg INTEGER)\"\"\""
   ],
   "metadata": {
    "collapsed": false,
    "ExecuteTime": {
     "end_time": "2023-09-15T09:27:14.558388300Z",
     "start_time": "2023-09-15T09:27:14.545594800Z"
    }
   },
   "id": "7bfc73274fa00f42"
  },
  {
   "cell_type": "code",
   "execution_count": 65,
   "outputs": [
    {
     "data": {
      "text/plain": "<sqlalchemy.engine.cursor.CursorResult at 0x266c9871320>"
     },
     "execution_count": 65,
     "metadata": {},
     "output_type": "execute_result"
    }
   ],
   "source": [
    "conn.execute(db.text(query_create_table_employee))"
   ],
   "metadata": {
    "collapsed": false,
    "ExecuteTime": {
     "end_time": "2023-09-15T09:36:20.525332700Z",
     "start_time": "2023-09-15T09:36:20.417389400Z"
    }
   },
   "id": "99fcf73631035334"
  },
  {
   "cell_type": "code",
   "execution_count": 49,
   "outputs": [
    {
     "data": {
      "text/plain": "<sqlalchemy.engine.cursor.CursorResult at 0x266c723fd90>"
     },
     "execution_count": 49,
     "metadata": {},
     "output_type": "execute_result"
    }
   ],
   "source": [
    "conn.execute(db.text(query_create_table_tasks))"
   ],
   "metadata": {
    "collapsed": false,
    "ExecuteTime": {
     "end_time": "2023-09-15T09:27:32.848742Z",
     "start_time": "2023-09-15T09:27:32.763289200Z"
    }
   },
   "id": "a37672b636a17d43"
  },
  {
   "cell_type": "markdown",
   "source": [
    "#### Заполнение таблиц"
   ],
   "metadata": {
    "collapsed": false
   },
   "id": "9b78c9bbc4f65b1d"
  },
  {
   "cell_type": "code",
   "execution_count": 59,
   "outputs": [],
   "source": [
    "keys_employee = 'id', 'name', 'lastname', 'salary', 'manager_id'\n",
    "data_employee = \"\"\"| 1  | Thomas    | Nelson     | 150000 | NULL       |\n",
    "| 2  | Willie    | Mitchell   | 90000  | 1          |\n",
    "| 3  | David     | Garrett    | 170000 | 2          |\n",
    "| 4  | Gary      | Richardson | 140000 | 1          |\n",
    "| 5  | Donald    | Stewart    | 100000 | 3          |\n",
    "| 6  | Frederick | White      | 70000  | 2          |\n",
    "| 7  | Willie    | Gonzales   | 12000  | 1          |\n",
    "| 8  | Angel     | Carter     | 990000 | 3          |\"\"\""
   ],
   "metadata": {
    "collapsed": false,
    "ExecuteTime": {
     "end_time": "2023-09-15T09:34:40.300833500Z",
     "start_time": "2023-09-15T09:34:40.280805700Z"
    }
   },
   "id": "a5ad88b43bf2a2c8"
  },
  {
   "cell_type": "code",
   "execution_count": 26,
   "outputs": [],
   "source": [
    "keys_tasks = 'id', 'title', 'employee_id', 'done_flg'\n",
    "data_tasks = \"\"\"| 1  | Task # 616 | 1           | 1        |\n",
    "| 2  | Task # 741 | 4           | 1        |\n",
    "| 3  | Task # 526 | 4           | 0        |\n",
    "| 4  | Task # 588 | 1           | 1        |\n",
    "| 5  | Task # 964 | 2           | 0        |\n",
    "| 6  | Task # 282 | 4           | 0        |\n",
    "| 7  | Task # 350 | 5           | 0        |\n",
    "| 8  | Task # 523 | 7           | 1        |\n",
    "| 9  | Task # 776 | 2           | 1        |\n",
    "| 10 | Task # 155 | 2           | 1        |\n",
    "| 11 | Task # 348 | 4           | 0        |\n",
    "| 12 | Task # 703 | 3           | 1        |\n",
    "| 13 | Task # 727 | 6           | 0        |\n",
    "| 14 | Task # 131 | 5           | 0        |\n",
    "| 15 | Task # 166 | 10          | 0        |\n",
    "| 16 | Task # 167 | 10          | 1        |\n",
    "| 17 | Task # 168 | 10          | 0        |\"\"\""
   ],
   "metadata": {
    "collapsed": false,
    "ExecuteTime": {
     "end_time": "2023-09-15T09:04:33.931819700Z",
     "start_time": "2023-09-15T09:04:33.922809300Z"
    }
   },
   "id": "bf1119025699376"
  },
  {
   "cell_type": "code",
   "execution_count": 67,
   "outputs": [],
   "source": [
    "def set_table_to_default(connection, table_name, keys, data):\n",
    "    default_data = [dict(zip(keys, map(str.strip, line.strip('|').split('|')))) \n",
    "                   for line in data.splitlines()]\n",
    "    # print(*default_data, sep=chr(10))\n",
    "    query_set = db.insert(db.Table(table_name, db.MetaData(), autoload_with=engine)).values(default_data)\n",
    "    query_delete = db.delete(db.Table(table_name, db.MetaData()))\n",
    "    connection.execute(query_delete)\n",
    "    connection.execute(query_set)\n",
    "    connection.commit()   "
   ],
   "metadata": {
    "collapsed": false,
    "ExecuteTime": {
     "end_time": "2023-09-15T09:38:32.553972900Z",
     "start_time": "2023-09-15T09:38:32.540961100Z"
    }
   },
   "id": "491d676091009a27"
  },
  {
   "cell_type": "code",
   "execution_count": 51,
   "outputs": [],
   "source": [
    "def reset_employee(connection=conn, table_name='employee', keys=keys_employee, data=data_employee):\n",
    "    set_table_to_default(connection, table_name, keys, data)"
   ],
   "metadata": {
    "collapsed": false,
    "ExecuteTime": {
     "end_time": "2023-09-15T09:27:44.802948900Z",
     "start_time": "2023-09-15T09:27:44.788936500Z"
    }
   },
   "id": "1cf641af8922ab85"
  },
  {
   "cell_type": "code",
   "execution_count": 52,
   "outputs": [],
   "source": [
    "def reset_tasks(connection=conn, table_name=\"tasks\", keys=keys_tasks, data=data_tasks):\n",
    "    set_table_to_default(connection, table_name, keys, data)"
   ],
   "metadata": {
    "collapsed": false,
    "ExecuteTime": {
     "end_time": "2023-09-15T09:27:45.757899400Z",
     "start_time": "2023-09-15T09:27:45.741889200Z"
    }
   },
   "id": "a3cdc8f838fed92d"
  },
  {
   "cell_type": "code",
   "execution_count": 68,
   "outputs": [],
   "source": [
    "reset_employee()"
   ],
   "metadata": {
    "collapsed": false,
    "ExecuteTime": {
     "end_time": "2023-09-15T09:38:34.883354400Z",
     "start_time": "2023-09-15T09:38:34.778322900Z"
    }
   },
   "id": "56f9af082852082d"
  },
  {
   "cell_type": "code",
   "execution_count": 69,
   "outputs": [],
   "source": [
    "reset_tasks()"
   ],
   "metadata": {
    "collapsed": false,
    "ExecuteTime": {
     "end_time": "2023-09-15T09:38:36.324885400Z",
     "start_time": "2023-09-15T09:38:36.214605900Z"
    }
   },
   "id": "16b35da7e2e2603f"
  },
  {
   "cell_type": "markdown",
   "source": [
    "В базе есть таблица employee, которая содержит данные о сотрудниках, а так же tasks с данными о задачах.\n",
    "Структура таблиц следующая:\n",
    "\n",
    "employee\n",
    "\n",
    "id - идентификатор сотрудника\n",
    "name - имя сотрудника\n",
    "lastname - фамилия сотрудника\n",
    "salary - зарплата сотрудника\n",
    "manager_id - идентификатор менеджера сотрудника\n",
    "\n",
    "tasks\n",
    "\n",
    "id - идентификатор задачи\n",
    "title - наименование задачи\n",
    "employee_id - идентификатор сотрудника, который назначен исполнителем\n",
    "done_flg - флаг выполнения задачи (1 - задача выполнена, 0 - задача не выполнена)\n",
    "\n",
    "\n",
    "\n",
    "#### task 1\n",
    "Сформируйте выборку, которая содержит в себе имя и фамилию сотрудника, а так же наименование задачи."
   ],
   "metadata": {
    "collapsed": false
   },
   "id": "266027011f7273f0"
  },
  {
   "cell_type": "code",
   "execution_count": 76,
   "outputs": [],
   "source": [
    "query_task_1 = \"\"\"SELECT name, lastname, title \n",
    "FROM employee, tasks \n",
    "WHERE employee.id = tasks.employee_id\"\"\""
   ],
   "metadata": {
    "collapsed": false,
    "ExecuteTime": {
     "end_time": "2023-09-15T09:50:27.725591200Z",
     "start_time": "2023-09-15T09:50:27.704582100Z"
    }
   },
   "id": "d97e4e6c337d8612"
  },
  {
   "cell_type": "code",
   "execution_count": 79,
   "outputs": [],
   "source": [
    "query_task_1_join = \"\"\"SELECT name, lastname, title\n",
    "FROM employee\n",
    "JOIN tasks ON employee.id = tasks.employee_id\"\"\""
   ],
   "metadata": {
    "collapsed": false,
    "ExecuteTime": {
     "end_time": "2023-09-15T09:51:58.823986200Z",
     "start_time": "2023-09-15T09:51:58.803988800Z"
    }
   },
   "id": "97b522e943bddc31"
  },
  {
   "cell_type": "code",
   "execution_count": 80,
   "outputs": [
    {
     "data": {
      "text/plain": "[('Thomas', 'Nelson', 'Task # 616'),\n ('Gary', 'Richardson', 'Task # 741'),\n ('Gary', 'Richardson', 'Task # 526'),\n ('Thomas', 'Nelson', 'Task # 588'),\n ('Willie', 'Mitchell', 'Task # 964'),\n ('Gary', 'Richardson', 'Task # 282'),\n ('Donald', 'Stewart', 'Task # 350'),\n ('Willie', 'Gonzales', 'Task # 523'),\n ('Willie', 'Mitchell', 'Task # 776'),\n ('Willie', 'Mitchell', 'Task # 155'),\n ('Gary', 'Richardson', 'Task # 348'),\n ('David', 'Garrett', 'Task # 703'),\n ('Frederick', 'White', 'Task # 727'),\n ('Donald', 'Stewart', 'Task # 131')]"
     },
     "execution_count": 80,
     "metadata": {},
     "output_type": "execute_result"
    }
   ],
   "source": [
    "conn.execute(db.text(query_task_1_join)).fetchall()"
   ],
   "metadata": {
    "collapsed": false,
    "ExecuteTime": {
     "end_time": "2023-09-15T09:52:00.744245600Z",
     "start_time": "2023-09-15T09:52:00.736195800Z"
    }
   },
   "id": "b399c62ca07ed24a"
  },
  {
   "cell_type": "markdown",
   "source": [
    "#### task_2 \n",
    "Сформируйте выборку, которая содержит имена и фамилии сотрудников, у которых нет задач."
   ],
   "metadata": {
    "collapsed": false
   },
   "id": "5f76d3886d48a404"
  },
  {
   "cell_type": "code",
   "execution_count": 89,
   "outputs": [],
   "source": [
    "query_task_2_join = \"\"\"SELECT name, lastname\n",
    "FROM employee\n",
    "LEFT OUTER JOIN tasks ON (employee.id = tasks.employee_id)\n",
    "WHERE tasks.employee_id is NULL\"\"\""
   ],
   "metadata": {
    "collapsed": false,
    "ExecuteTime": {
     "end_time": "2023-09-15T10:06:32.601689700Z",
     "start_time": "2023-09-15T10:06:32.596676Z"
    }
   },
   "id": "aaaa3b97b4c3d716"
  },
  {
   "cell_type": "code",
   "execution_count": 85,
   "outputs": [],
   "source": [
    "query_task_2 = \"\"\"SELECT name, lastname FROM employee\n",
    "WHERE id NOT IN (SELECT employee_id FROM tasks)\"\"\""
   ],
   "metadata": {
    "collapsed": false,
    "ExecuteTime": {
     "end_time": "2023-09-15T10:05:35.431322200Z",
     "start_time": "2023-09-15T10:05:35.426311900Z"
    }
   },
   "id": "2be398cc096454d6"
  },
  {
   "cell_type": "code",
   "execution_count": 86,
   "outputs": [
    {
     "data": {
      "text/plain": "[('Angel', 'Carter')]"
     },
     "execution_count": 86,
     "metadata": {},
     "output_type": "execute_result"
    }
   ],
   "source": [
    "conn.execute(db.text(query_task_2)).fetchall()"
   ],
   "metadata": {
    "collapsed": false,
    "ExecuteTime": {
     "end_time": "2023-09-15T10:05:36.376387Z",
     "start_time": "2023-09-15T10:05:36.369468900Z"
    }
   },
   "id": "608492a1a2e50684"
  },
  {
   "cell_type": "code",
   "execution_count": 90,
   "outputs": [
    {
     "data": {
      "text/plain": "[('Angel', 'Carter')]"
     },
     "execution_count": 90,
     "metadata": {},
     "output_type": "execute_result"
    }
   ],
   "source": [
    "conn.execute(db.text(query_task_2_join)).fetchall()"
   ],
   "metadata": {
    "collapsed": false,
    "ExecuteTime": {
     "end_time": "2023-09-15T10:06:38.472512700Z",
     "start_time": "2023-09-15T10:06:38.466578Z"
    }
   },
   "id": "13574208d0aa7b5e"
  },
  {
   "cell_type": "markdown",
   "source": [
    "#### task 3\n",
    "Сформируйте выборку, которая содержит имена и фамилии сотрудников, у которых нет активных задач (либо задач вовсе нет, либо все задачи со значением 1 в поле done_flg)."
   ],
   "metadata": {
    "collapsed": false
   },
   "id": "db87f2522b398ce7"
  },
  {
   "cell_type": "code",
   "execution_count": 107,
   "outputs": [],
   "source": [
    "query_task_3 = \"\"\"SELECT name, lastname \n",
    "FROM employee\n",
    "LEFT OUTER JOIN tasks ON employee.id = tasks.employee_id\n",
    "WHERE tasks.employee_id is NULL or ALL(SELECT done_flg FROM tasks WHERE employee_id = employee.id\"\"\"\n",
    "\n",
    "query_task_3 = \"\"\"SELECT name, lastname \n",
    "FROM employee\n",
    "WHERE id = ALL (SELECT employee_id FROM tasks WHERE done_flg = 1)\"\"\"\n",
    "\n"
   ],
   "metadata": {
    "collapsed": false,
    "ExecuteTime": {
     "end_time": "2023-09-15T10:49:40.767846500Z",
     "start_time": "2023-09-15T10:49:40.761835900Z"
    }
   },
   "id": "b50c560707e7e629"
  },
  {
   "cell_type": "code",
   "execution_count": 97,
   "outputs": [],
   "source": [
    "q31 = \"\"\"SELECT employee_id, sum(done_flg) as done_tasks FROM tasks GROUP BY employee_id\"\"\""
   ],
   "metadata": {
    "collapsed": false,
    "ExecuteTime": {
     "end_time": "2023-09-15T10:35:45.449448800Z",
     "start_time": "2023-09-15T10:35:45.429438200Z"
    }
   },
   "id": "4c345808a73d17f"
  },
  {
   "cell_type": "code",
   "execution_count": 108,
   "outputs": [
    {
     "ename": "OperationalError",
     "evalue": "(sqlite3.OperationalError) near \"ALL\": syntax error\n[SQL: SELECT name, lastname \nFROM employee\nWHERE id = ALL (SELECT employee_id FROM tasks WHERE done_flg = 1)]\n(Background on this error at: https://sqlalche.me/e/20/e3q8)",
     "output_type": "error",
     "traceback": [
      "\u001B[1;31m---------------------------------------------------------------------------\u001B[0m",
      "\u001B[1;31mOperationalError\u001B[0m                          Traceback (most recent call last)",
      "File \u001B[1;32mE:\\Zanzara\\YandexDisk\\mine\\Coding\\Python\\python_venv\\Stepik. Database\\venv\\Lib\\site-packages\\sqlalchemy\\engine\\base.py:1965\u001B[0m, in \u001B[0;36mConnection._exec_single_context\u001B[1;34m(self, dialect, context, statement, parameters)\u001B[0m\n\u001B[0;32m   1964\u001B[0m     \u001B[38;5;28;01mif\u001B[39;00m \u001B[38;5;129;01mnot\u001B[39;00m evt_handled:\n\u001B[1;32m-> 1965\u001B[0m         \u001B[38;5;28;43mself\u001B[39;49m\u001B[38;5;241;43m.\u001B[39;49m\u001B[43mdialect\u001B[49m\u001B[38;5;241;43m.\u001B[39;49m\u001B[43mdo_execute\u001B[49m\u001B[43m(\u001B[49m\n\u001B[0;32m   1966\u001B[0m \u001B[43m            \u001B[49m\u001B[43mcursor\u001B[49m\u001B[43m,\u001B[49m\u001B[43m \u001B[49m\u001B[43mstr_statement\u001B[49m\u001B[43m,\u001B[49m\u001B[43m \u001B[49m\u001B[43meffective_parameters\u001B[49m\u001B[43m,\u001B[49m\u001B[43m \u001B[49m\u001B[43mcontext\u001B[49m\n\u001B[0;32m   1967\u001B[0m \u001B[43m        \u001B[49m\u001B[43m)\u001B[49m\n\u001B[0;32m   1969\u001B[0m \u001B[38;5;28;01mif\u001B[39;00m \u001B[38;5;28mself\u001B[39m\u001B[38;5;241m.\u001B[39m_has_events \u001B[38;5;129;01mor\u001B[39;00m \u001B[38;5;28mself\u001B[39m\u001B[38;5;241m.\u001B[39mengine\u001B[38;5;241m.\u001B[39m_has_events:\n",
      "File \u001B[1;32mE:\\Zanzara\\YandexDisk\\mine\\Coding\\Python\\python_venv\\Stepik. Database\\venv\\Lib\\site-packages\\sqlalchemy\\engine\\default.py:921\u001B[0m, in \u001B[0;36mDefaultDialect.do_execute\u001B[1;34m(self, cursor, statement, parameters, context)\u001B[0m\n\u001B[0;32m    920\u001B[0m \u001B[38;5;28;01mdef\u001B[39;00m \u001B[38;5;21mdo_execute\u001B[39m(\u001B[38;5;28mself\u001B[39m, cursor, statement, parameters, context\u001B[38;5;241m=\u001B[39m\u001B[38;5;28;01mNone\u001B[39;00m):\n\u001B[1;32m--> 921\u001B[0m     cursor\u001B[38;5;241m.\u001B[39mexecute(statement, parameters)\n",
      "\u001B[1;31mOperationalError\u001B[0m: near \"ALL\": syntax error",
      "\nThe above exception was the direct cause of the following exception:\n",
      "\u001B[1;31mOperationalError\u001B[0m                          Traceback (most recent call last)",
      "Cell \u001B[1;32mIn[108], line 1\u001B[0m\n\u001B[1;32m----> 1\u001B[0m \u001B[43mconn\u001B[49m\u001B[38;5;241;43m.\u001B[39;49m\u001B[43mexecute\u001B[49m\u001B[43m(\u001B[49m\u001B[43mdb\u001B[49m\u001B[38;5;241;43m.\u001B[39;49m\u001B[43mtext\u001B[49m\u001B[43m(\u001B[49m\u001B[43mquery_task_3\u001B[49m\u001B[43m)\u001B[49m\u001B[43m)\u001B[49m\u001B[38;5;241m.\u001B[39mfetchall()\n",
      "File \u001B[1;32mE:\\Zanzara\\YandexDisk\\mine\\Coding\\Python\\python_venv\\Stepik. Database\\venv\\Lib\\site-packages\\sqlalchemy\\engine\\base.py:1412\u001B[0m, in \u001B[0;36mConnection.execute\u001B[1;34m(self, statement, parameters, execution_options)\u001B[0m\n\u001B[0;32m   1410\u001B[0m     \u001B[38;5;28;01mraise\u001B[39;00m exc\u001B[38;5;241m.\u001B[39mObjectNotExecutableError(statement) \u001B[38;5;28;01mfrom\u001B[39;00m \u001B[38;5;21;01merr\u001B[39;00m\n\u001B[0;32m   1411\u001B[0m \u001B[38;5;28;01melse\u001B[39;00m:\n\u001B[1;32m-> 1412\u001B[0m     \u001B[38;5;28;01mreturn\u001B[39;00m \u001B[43mmeth\u001B[49m\u001B[43m(\u001B[49m\n\u001B[0;32m   1413\u001B[0m \u001B[43m        \u001B[49m\u001B[38;5;28;43mself\u001B[39;49m\u001B[43m,\u001B[49m\n\u001B[0;32m   1414\u001B[0m \u001B[43m        \u001B[49m\u001B[43mdistilled_parameters\u001B[49m\u001B[43m,\u001B[49m\n\u001B[0;32m   1415\u001B[0m \u001B[43m        \u001B[49m\u001B[43mexecution_options\u001B[49m\u001B[43m \u001B[49m\u001B[38;5;129;43;01mor\u001B[39;49;00m\u001B[43m \u001B[49m\u001B[43mNO_OPTIONS\u001B[49m\u001B[43m,\u001B[49m\n\u001B[0;32m   1416\u001B[0m \u001B[43m    \u001B[49m\u001B[43m)\u001B[49m\n",
      "File \u001B[1;32mE:\\Zanzara\\YandexDisk\\mine\\Coding\\Python\\python_venv\\Stepik. Database\\venv\\Lib\\site-packages\\sqlalchemy\\sql\\elements.py:515\u001B[0m, in \u001B[0;36mClauseElement._execute_on_connection\u001B[1;34m(self, connection, distilled_params, execution_options)\u001B[0m\n\u001B[0;32m    513\u001B[0m     \u001B[38;5;28;01mif\u001B[39;00m TYPE_CHECKING:\n\u001B[0;32m    514\u001B[0m         \u001B[38;5;28;01massert\u001B[39;00m \u001B[38;5;28misinstance\u001B[39m(\u001B[38;5;28mself\u001B[39m, Executable)\n\u001B[1;32m--> 515\u001B[0m     \u001B[38;5;28;01mreturn\u001B[39;00m \u001B[43mconnection\u001B[49m\u001B[38;5;241;43m.\u001B[39;49m\u001B[43m_execute_clauseelement\u001B[49m\u001B[43m(\u001B[49m\n\u001B[0;32m    516\u001B[0m \u001B[43m        \u001B[49m\u001B[38;5;28;43mself\u001B[39;49m\u001B[43m,\u001B[49m\u001B[43m \u001B[49m\u001B[43mdistilled_params\u001B[49m\u001B[43m,\u001B[49m\u001B[43m \u001B[49m\u001B[43mexecution_options\u001B[49m\n\u001B[0;32m    517\u001B[0m \u001B[43m    \u001B[49m\u001B[43m)\u001B[49m\n\u001B[0;32m    518\u001B[0m \u001B[38;5;28;01melse\u001B[39;00m:\n\u001B[0;32m    519\u001B[0m     \u001B[38;5;28;01mraise\u001B[39;00m exc\u001B[38;5;241m.\u001B[39mObjectNotExecutableError(\u001B[38;5;28mself\u001B[39m)\n",
      "File \u001B[1;32mE:\\Zanzara\\YandexDisk\\mine\\Coding\\Python\\python_venv\\Stepik. Database\\venv\\Lib\\site-packages\\sqlalchemy\\engine\\base.py:1635\u001B[0m, in \u001B[0;36mConnection._execute_clauseelement\u001B[1;34m(self, elem, distilled_parameters, execution_options)\u001B[0m\n\u001B[0;32m   1623\u001B[0m compiled_cache: Optional[CompiledCacheType] \u001B[38;5;241m=\u001B[39m execution_options\u001B[38;5;241m.\u001B[39mget(\n\u001B[0;32m   1624\u001B[0m     \u001B[38;5;124m\"\u001B[39m\u001B[38;5;124mcompiled_cache\u001B[39m\u001B[38;5;124m\"\u001B[39m, \u001B[38;5;28mself\u001B[39m\u001B[38;5;241m.\u001B[39mengine\u001B[38;5;241m.\u001B[39m_compiled_cache\n\u001B[0;32m   1625\u001B[0m )\n\u001B[0;32m   1627\u001B[0m compiled_sql, extracted_params, cache_hit \u001B[38;5;241m=\u001B[39m elem\u001B[38;5;241m.\u001B[39m_compile_w_cache(\n\u001B[0;32m   1628\u001B[0m     dialect\u001B[38;5;241m=\u001B[39mdialect,\n\u001B[0;32m   1629\u001B[0m     compiled_cache\u001B[38;5;241m=\u001B[39mcompiled_cache,\n\u001B[1;32m   (...)\u001B[0m\n\u001B[0;32m   1633\u001B[0m     linting\u001B[38;5;241m=\u001B[39m\u001B[38;5;28mself\u001B[39m\u001B[38;5;241m.\u001B[39mdialect\u001B[38;5;241m.\u001B[39mcompiler_linting \u001B[38;5;241m|\u001B[39m compiler\u001B[38;5;241m.\u001B[39mWARN_LINTING,\n\u001B[0;32m   1634\u001B[0m )\n\u001B[1;32m-> 1635\u001B[0m ret \u001B[38;5;241m=\u001B[39m \u001B[38;5;28;43mself\u001B[39;49m\u001B[38;5;241;43m.\u001B[39;49m\u001B[43m_execute_context\u001B[49m\u001B[43m(\u001B[49m\n\u001B[0;32m   1636\u001B[0m \u001B[43m    \u001B[49m\u001B[43mdialect\u001B[49m\u001B[43m,\u001B[49m\n\u001B[0;32m   1637\u001B[0m \u001B[43m    \u001B[49m\u001B[43mdialect\u001B[49m\u001B[38;5;241;43m.\u001B[39;49m\u001B[43mexecution_ctx_cls\u001B[49m\u001B[38;5;241;43m.\u001B[39;49m\u001B[43m_init_compiled\u001B[49m\u001B[43m,\u001B[49m\n\u001B[0;32m   1638\u001B[0m \u001B[43m    \u001B[49m\u001B[43mcompiled_sql\u001B[49m\u001B[43m,\u001B[49m\n\u001B[0;32m   1639\u001B[0m \u001B[43m    \u001B[49m\u001B[43mdistilled_parameters\u001B[49m\u001B[43m,\u001B[49m\n\u001B[0;32m   1640\u001B[0m \u001B[43m    \u001B[49m\u001B[43mexecution_options\u001B[49m\u001B[43m,\u001B[49m\n\u001B[0;32m   1641\u001B[0m \u001B[43m    \u001B[49m\u001B[43mcompiled_sql\u001B[49m\u001B[43m,\u001B[49m\n\u001B[0;32m   1642\u001B[0m \u001B[43m    \u001B[49m\u001B[43mdistilled_parameters\u001B[49m\u001B[43m,\u001B[49m\n\u001B[0;32m   1643\u001B[0m \u001B[43m    \u001B[49m\u001B[43melem\u001B[49m\u001B[43m,\u001B[49m\n\u001B[0;32m   1644\u001B[0m \u001B[43m    \u001B[49m\u001B[43mextracted_params\u001B[49m\u001B[43m,\u001B[49m\n\u001B[0;32m   1645\u001B[0m \u001B[43m    \u001B[49m\u001B[43mcache_hit\u001B[49m\u001B[38;5;241;43m=\u001B[39;49m\u001B[43mcache_hit\u001B[49m\u001B[43m,\u001B[49m\n\u001B[0;32m   1646\u001B[0m \u001B[43m\u001B[49m\u001B[43m)\u001B[49m\n\u001B[0;32m   1647\u001B[0m \u001B[38;5;28;01mif\u001B[39;00m has_events:\n\u001B[0;32m   1648\u001B[0m     \u001B[38;5;28mself\u001B[39m\u001B[38;5;241m.\u001B[39mdispatch\u001B[38;5;241m.\u001B[39mafter_execute(\n\u001B[0;32m   1649\u001B[0m         \u001B[38;5;28mself\u001B[39m,\n\u001B[0;32m   1650\u001B[0m         elem,\n\u001B[1;32m   (...)\u001B[0m\n\u001B[0;32m   1654\u001B[0m         ret,\n\u001B[0;32m   1655\u001B[0m     )\n",
      "File \u001B[1;32mE:\\Zanzara\\YandexDisk\\mine\\Coding\\Python\\python_venv\\Stepik. Database\\venv\\Lib\\site-packages\\sqlalchemy\\engine\\base.py:1844\u001B[0m, in \u001B[0;36mConnection._execute_context\u001B[1;34m(self, dialect, constructor, statement, parameters, execution_options, *args, **kw)\u001B[0m\n\u001B[0;32m   1839\u001B[0m     \u001B[38;5;28;01mreturn\u001B[39;00m \u001B[38;5;28mself\u001B[39m\u001B[38;5;241m.\u001B[39m_exec_insertmany_context(\n\u001B[0;32m   1840\u001B[0m         dialect,\n\u001B[0;32m   1841\u001B[0m         context,\n\u001B[0;32m   1842\u001B[0m     )\n\u001B[0;32m   1843\u001B[0m \u001B[38;5;28;01melse\u001B[39;00m:\n\u001B[1;32m-> 1844\u001B[0m     \u001B[38;5;28;01mreturn\u001B[39;00m \u001B[38;5;28;43mself\u001B[39;49m\u001B[38;5;241;43m.\u001B[39;49m\u001B[43m_exec_single_context\u001B[49m\u001B[43m(\u001B[49m\n\u001B[0;32m   1845\u001B[0m \u001B[43m        \u001B[49m\u001B[43mdialect\u001B[49m\u001B[43m,\u001B[49m\u001B[43m \u001B[49m\u001B[43mcontext\u001B[49m\u001B[43m,\u001B[49m\u001B[43m \u001B[49m\u001B[43mstatement\u001B[49m\u001B[43m,\u001B[49m\u001B[43m \u001B[49m\u001B[43mparameters\u001B[49m\n\u001B[0;32m   1846\u001B[0m \u001B[43m    \u001B[49m\u001B[43m)\u001B[49m\n",
      "File \u001B[1;32mE:\\Zanzara\\YandexDisk\\mine\\Coding\\Python\\python_venv\\Stepik. Database\\venv\\Lib\\site-packages\\sqlalchemy\\engine\\base.py:1984\u001B[0m, in \u001B[0;36mConnection._exec_single_context\u001B[1;34m(self, dialect, context, statement, parameters)\u001B[0m\n\u001B[0;32m   1981\u001B[0m     result \u001B[38;5;241m=\u001B[39m context\u001B[38;5;241m.\u001B[39m_setup_result_proxy()\n\u001B[0;32m   1983\u001B[0m \u001B[38;5;28;01mexcept\u001B[39;00m \u001B[38;5;167;01mBaseException\u001B[39;00m \u001B[38;5;28;01mas\u001B[39;00m e:\n\u001B[1;32m-> 1984\u001B[0m     \u001B[38;5;28;43mself\u001B[39;49m\u001B[38;5;241;43m.\u001B[39;49m\u001B[43m_handle_dbapi_exception\u001B[49m\u001B[43m(\u001B[49m\n\u001B[0;32m   1985\u001B[0m \u001B[43m        \u001B[49m\u001B[43me\u001B[49m\u001B[43m,\u001B[49m\u001B[43m \u001B[49m\u001B[43mstr_statement\u001B[49m\u001B[43m,\u001B[49m\u001B[43m \u001B[49m\u001B[43meffective_parameters\u001B[49m\u001B[43m,\u001B[49m\u001B[43m \u001B[49m\u001B[43mcursor\u001B[49m\u001B[43m,\u001B[49m\u001B[43m \u001B[49m\u001B[43mcontext\u001B[49m\n\u001B[0;32m   1986\u001B[0m \u001B[43m    \u001B[49m\u001B[43m)\u001B[49m\n\u001B[0;32m   1988\u001B[0m \u001B[38;5;28;01mreturn\u001B[39;00m result\n",
      "File \u001B[1;32mE:\\Zanzara\\YandexDisk\\mine\\Coding\\Python\\python_venv\\Stepik. Database\\venv\\Lib\\site-packages\\sqlalchemy\\engine\\base.py:2339\u001B[0m, in \u001B[0;36mConnection._handle_dbapi_exception\u001B[1;34m(self, e, statement, parameters, cursor, context, is_sub_exec)\u001B[0m\n\u001B[0;32m   2337\u001B[0m \u001B[38;5;28;01melif\u001B[39;00m should_wrap:\n\u001B[0;32m   2338\u001B[0m     \u001B[38;5;28;01massert\u001B[39;00m sqlalchemy_exception \u001B[38;5;129;01mis\u001B[39;00m \u001B[38;5;129;01mnot\u001B[39;00m \u001B[38;5;28;01mNone\u001B[39;00m\n\u001B[1;32m-> 2339\u001B[0m     \u001B[38;5;28;01mraise\u001B[39;00m sqlalchemy_exception\u001B[38;5;241m.\u001B[39mwith_traceback(exc_info[\u001B[38;5;241m2\u001B[39m]) \u001B[38;5;28;01mfrom\u001B[39;00m \u001B[38;5;21;01me\u001B[39;00m\n\u001B[0;32m   2340\u001B[0m \u001B[38;5;28;01melse\u001B[39;00m:\n\u001B[0;32m   2341\u001B[0m     \u001B[38;5;28;01massert\u001B[39;00m exc_info[\u001B[38;5;241m1\u001B[39m] \u001B[38;5;129;01mis\u001B[39;00m \u001B[38;5;129;01mnot\u001B[39;00m \u001B[38;5;28;01mNone\u001B[39;00m\n",
      "File \u001B[1;32mE:\\Zanzara\\YandexDisk\\mine\\Coding\\Python\\python_venv\\Stepik. Database\\venv\\Lib\\site-packages\\sqlalchemy\\engine\\base.py:1965\u001B[0m, in \u001B[0;36mConnection._exec_single_context\u001B[1;34m(self, dialect, context, statement, parameters)\u001B[0m\n\u001B[0;32m   1963\u001B[0m                 \u001B[38;5;28;01mbreak\u001B[39;00m\n\u001B[0;32m   1964\u001B[0m     \u001B[38;5;28;01mif\u001B[39;00m \u001B[38;5;129;01mnot\u001B[39;00m evt_handled:\n\u001B[1;32m-> 1965\u001B[0m         \u001B[38;5;28;43mself\u001B[39;49m\u001B[38;5;241;43m.\u001B[39;49m\u001B[43mdialect\u001B[49m\u001B[38;5;241;43m.\u001B[39;49m\u001B[43mdo_execute\u001B[49m\u001B[43m(\u001B[49m\n\u001B[0;32m   1966\u001B[0m \u001B[43m            \u001B[49m\u001B[43mcursor\u001B[49m\u001B[43m,\u001B[49m\u001B[43m \u001B[49m\u001B[43mstr_statement\u001B[49m\u001B[43m,\u001B[49m\u001B[43m \u001B[49m\u001B[43meffective_parameters\u001B[49m\u001B[43m,\u001B[49m\u001B[43m \u001B[49m\u001B[43mcontext\u001B[49m\n\u001B[0;32m   1967\u001B[0m \u001B[43m        \u001B[49m\u001B[43m)\u001B[49m\n\u001B[0;32m   1969\u001B[0m \u001B[38;5;28;01mif\u001B[39;00m \u001B[38;5;28mself\u001B[39m\u001B[38;5;241m.\u001B[39m_has_events \u001B[38;5;129;01mor\u001B[39;00m \u001B[38;5;28mself\u001B[39m\u001B[38;5;241m.\u001B[39mengine\u001B[38;5;241m.\u001B[39m_has_events:\n\u001B[0;32m   1970\u001B[0m     \u001B[38;5;28mself\u001B[39m\u001B[38;5;241m.\u001B[39mdispatch\u001B[38;5;241m.\u001B[39mafter_cursor_execute(\n\u001B[0;32m   1971\u001B[0m         \u001B[38;5;28mself\u001B[39m,\n\u001B[0;32m   1972\u001B[0m         cursor,\n\u001B[1;32m   (...)\u001B[0m\n\u001B[0;32m   1976\u001B[0m         context\u001B[38;5;241m.\u001B[39mexecutemany,\n\u001B[0;32m   1977\u001B[0m     )\n",
      "File \u001B[1;32mE:\\Zanzara\\YandexDisk\\mine\\Coding\\Python\\python_venv\\Stepik. Database\\venv\\Lib\\site-packages\\sqlalchemy\\engine\\default.py:921\u001B[0m, in \u001B[0;36mDefaultDialect.do_execute\u001B[1;34m(self, cursor, statement, parameters, context)\u001B[0m\n\u001B[0;32m    920\u001B[0m \u001B[38;5;28;01mdef\u001B[39;00m \u001B[38;5;21mdo_execute\u001B[39m(\u001B[38;5;28mself\u001B[39m, cursor, statement, parameters, context\u001B[38;5;241m=\u001B[39m\u001B[38;5;28;01mNone\u001B[39;00m):\n\u001B[1;32m--> 921\u001B[0m     cursor\u001B[38;5;241m.\u001B[39mexecute(statement, parameters)\n",
      "\u001B[1;31mOperationalError\u001B[0m: (sqlite3.OperationalError) near \"ALL\": syntax error\n[SQL: SELECT name, lastname \nFROM employee\nWHERE id = ALL (SELECT employee_id FROM tasks WHERE done_flg = 1)]\n(Background on this error at: https://sqlalche.me/e/20/e3q8)"
     ]
    }
   ],
   "source": [
    "conn.execute(db.text(query_task_3)).fetchall()"
   ],
   "metadata": {
    "collapsed": false,
    "ExecuteTime": {
     "end_time": "2023-09-15T10:49:42.811480Z",
     "start_time": "2023-09-15T10:49:42.704554200Z"
    }
   },
   "id": "6f61eff177eaee86"
  },
  {
   "cell_type": "code",
   "execution_count": 98,
   "outputs": [
    {
     "data": {
      "text/plain": "[(1, 2), (2, 2), (3, 1), (4, 1), (5, 0), (6, 0), (7, 1), (10, 1)]"
     },
     "execution_count": 98,
     "metadata": {},
     "output_type": "execute_result"
    }
   ],
   "source": [
    "conn.execute(db.text(q31)).fetchall()"
   ],
   "metadata": {
    "collapsed": false,
    "ExecuteTime": {
     "end_time": "2023-09-15T10:35:46.320060700Z",
     "start_time": "2023-09-15T10:35:46.314087600Z"
    }
   },
   "id": "77e10fed78b122ef"
  }
 ],
 "metadata": {
  "kernelspec": {
   "display_name": "Python 3",
   "language": "python",
   "name": "python3"
  },
  "language_info": {
   "codemirror_mode": {
    "name": "ipython",
    "version": 2
   },
   "file_extension": ".py",
   "mimetype": "text/x-python",
   "name": "python",
   "nbconvert_exporter": "python",
   "pygments_lexer": "ipython2",
   "version": "2.7.6"
  }
 },
 "nbformat": 4,
 "nbformat_minor": 5
}
