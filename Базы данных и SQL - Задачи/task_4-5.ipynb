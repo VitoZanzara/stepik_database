{
 "cells": [
  {
   "cell_type": "markdown",
   "source": [
    "https://stepik.org/lesson/1075715?unit=1085823"
   ],
   "metadata": {
    "collapsed": false
   },
   "id": "59635dee5965935f"
  },
  {
   "cell_type": "code",
   "execution_count": 1,
   "outputs": [],
   "source": [
    "import sqlalchemy as db"
   ],
   "metadata": {
    "collapsed": false,
    "ExecuteTime": {
     "end_time": "2023-09-13T14:14:55.244516100Z",
     "start_time": "2023-09-13T14:14:55.129516600Z"
    }
   },
   "id": "a717aa39474af443"
  },
  {
   "cell_type": "code",
   "execution_count": 2,
   "outputs": [],
   "source": [
    "db_name = 'db_files/task_4-5_(join).sqlite'"
   ],
   "metadata": {
    "collapsed": false,
    "ExecuteTime": {
     "end_time": "2023-09-13T14:14:58.602060100Z",
     "start_time": "2023-09-13T14:14:58.595075Z"
    }
   },
   "id": "d952d50fbdbbcd75"
  },
  {
   "cell_type": "code",
   "execution_count": 3,
   "outputs": [],
   "source": [
    "engine = db.create_engine(f'sqlite:///{db_name}')"
   ],
   "metadata": {
    "collapsed": false,
    "ExecuteTime": {
     "end_time": "2023-09-13T14:14:59.982752800Z",
     "start_time": "2023-09-13T14:14:59.962488600Z"
    }
   },
   "id": "f3023ce1bbde5c1a"
  },
  {
   "cell_type": "code",
   "execution_count": 4,
   "outputs": [],
   "source": [
    "conn = engine.connect()"
   ],
   "metadata": {
    "collapsed": false,
    "ExecuteTime": {
     "end_time": "2023-09-13T14:15:01.327504300Z",
     "start_time": "2023-09-13T14:15:01.318982100Z"
    }
   },
   "id": "f44da786aec9f52d"
  },
  {
   "cell_type": "markdown",
   "source": [
    "В базе есть таблица employee, которая содержит данные о сотрудниках, а так же tasks с данными о задачах.\n",
    "Структура таблиц следующая:\n",
    "\n",
    "employee\n",
    "\n",
    "id - идентификатор сотрудника\n",
    "name - имя сотрудника\n",
    "lastname - фамилия сотрудника\n",
    "salary - зарплата сотрудника\n",
    "manager_id - идентификатор менеджера сотрудника\n",
    "\n",
    "tasks\n",
    "\n",
    "id - идентификатор задачи\n",
    "title - наименование задачи\n",
    "employee_id - идентификатор сотрудника, который назначен исполнителем\n",
    "done_flg - флаг выполнения задачи (1 - задача выполнена, 0 - задача не выполнена)\n",
    "\n",
    "Сформируйте выборку, которая содержит в себе имя и фамилию сотрудника, а так же наименование задачи."
   ],
   "metadata": {
    "collapsed": false
   },
   "id": "266027011f7273f0"
  },
  {
   "cell_type": "code",
   "execution_count": 5,
   "outputs": [],
   "source": [
    "keys_employee = 'id', 'name', 'lastname', 'salary', 'manager_id'\n",
    "data_employee = \"\"\"| 1  | Thomas    | Nelson     | 150000 | NULL       |\n",
    "| 2  | Willie    | Mitchell   | 90000  | 1          |\n",
    "| 3  | David     | Garrett    | 170000 | 2          |\n",
    "| 4  | Gary      | Richardson | 140000 | 1          |\n",
    "| 5  | Donald    | Stewart    | 100000 | 3          |\n",
    "| 6  | Frederick | White      | 70000  | 2          |\n",
    "| 7  | Willie    | Gonzales   | 12000  | 1          |\n",
    "| 8  | Angel     | Carter     | 990000 | 3          |\"\"\""
   ],
   "metadata": {
    "collapsed": false,
    "ExecuteTime": {
     "end_time": "2023-09-13T14:15:03.899807600Z",
     "start_time": "2023-09-13T14:15:03.893836300Z"
    }
   },
   "id": "a5ad88b43bf2a2c8"
  },
  {
   "cell_type": "code",
   "execution_count": 6,
   "outputs": [],
   "source": [
    "keys_tasks = 'id', 'title', 'employee_id', 'done_flg'\n",
    "data_tasks = \"\"\"| 1  | Thomas    | Nelson     | 150000 | NULL       |\n",
    "| 2  | Willie    | Mitchell   | 90000  | 1          |\n",
    "| 3  | David     | Garrett    | 170000 | 2          |\n",
    "| 4  | Gary      | Richardson | 140000 | 1          |\n",
    "| 5  | Donald    | Stewart    | 100000 | 3          |\n",
    "| 6  | Frederick | White      | 70000  | 2          |\n",
    "| 7  | Willie    | Gonzales   | 12000  | 1          |\n",
    "| 8  | Angel     | Carter     | 990000 | 3          |\"\"\""
   ],
   "metadata": {
    "collapsed": false,
    "ExecuteTime": {
     "end_time": "2023-09-13T14:15:04.863011500Z",
     "start_time": "2023-09-13T14:15:04.853490700Z"
    }
   },
   "id": "bf1119025699376"
  },
  {
   "cell_type": "markdown",
   "source": [],
   "metadata": {
    "collapsed": false
   },
   "id": "c931e6d7320776ad"
  },
  {
   "cell_type": "code",
   "execution_count": 7,
   "outputs": [],
   "source": [
    "query_create_table_employee = \"\"\"CREATE TABLE employee (\n",
    "id INTEGER PRIMARY KEY,\n",
    "lastname  VARCHAR(128),\n",
    "manager_id INTEGER,\n",
    "name VARCHAR(128),\n",
    "salary INTEGER CHECK('salary >= 0') DEFAULT 0\n",
    ")\"\"\""
   ],
   "metadata": {
    "collapsed": false,
    "ExecuteTime": {
     "end_time": "2023-09-13T14:15:06.273873400Z",
     "start_time": "2023-09-13T14:15:06.268884200Z"
    }
   },
   "id": "f38ac714dc289d62"
  },
  {
   "cell_type": "code",
   "execution_count": null,
   "outputs": [],
   "source": [
    "query_create_table_tasks_table = \"\"\"CREATE TABLE tasks (\n",
    "done_flg INTEGER,\n",
    "employee_id INTEGER,\n",
    "id INTEGER,\n",
    "title VARCHAR(128)\n",
    "\n",
    ")\"\"\""
   ],
   "metadata": {
    "collapsed": false
   },
   "id": "7bfc73274fa00f42"
  }
 ],
 "metadata": {
  "kernelspec": {
   "display_name": "Python 3",
   "language": "python",
   "name": "python3"
  },
  "language_info": {
   "codemirror_mode": {
    "name": "ipython",
    "version": 2
   },
   "file_extension": ".py",
   "mimetype": "text/x-python",
   "name": "python",
   "nbconvert_exporter": "python",
   "pygments_lexer": "ipython2",
   "version": "2.7.6"
  }
 },
 "nbformat": 4,
 "nbformat_minor": 5
}
